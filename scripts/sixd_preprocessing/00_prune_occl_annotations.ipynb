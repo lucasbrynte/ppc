{
 "cells": [
  {
   "cell_type": "code",
   "execution_count": 1,
   "metadata": {},
   "outputs": [],
   "source": [
    "import sys\n",
    "import os\n",
    "sys.path.append('../..')\n",
    "#sys.path.append(os.path.join(os.path.dirname(os.path.dirname(__file__))))\n",
    "\n",
    "import ruamel.yaml as yaml\n",
    "# import numpy as np\n",
    "# from PIL import Image\n",
    "# from matplotlib import pyplot as plt"
   ]
  },
  {
   "cell_type": "code",
   "execution_count": 2,
   "metadata": {},
   "outputs": [],
   "source": [
    "# DATA_PATH = '/home/lucas/datasets/pose-data/sixd/lm-lmo-from-bop/v1'\n",
    "DATA_PATH = '/datasets/lm-lmo-from-bop'"
   ]
  },
  {
   "cell_type": "code",
   "execution_count": 3,
   "metadata": {},
   "outputs": [],
   "source": [
    "for obj_id, obj_label in [\n",
    "    (2, 'benchviseblue'),\n",
    "]:\n",
    "    seq = obj_label\n",
    "    anno_path = os.path.join(DATA_PATH, 'all_unoccl', seq, 'gt.yml')\n",
    "    with open(anno_path, 'r') as f:\n",
    "        gts = yaml.load(f, Loader=yaml.CLoader)\n",
    "    for frame_idx in gts:\n",
    "        assert len(gts[frame_idx]) > 0\n",
    "        gts[frame_idx] = [ anno for anno in gts[frame_idx] if anno['obj_id'] == obj_id ]\n",
    "        assert len(gts[frame_idx]) == 1\n",
    "    with open(anno_path, 'w') as f:\n",
    "        yaml.dump(gts, f, Dumper=yaml.CDumper)"
   ]
  }
 ],
 "metadata": {
  "kernelspec": {
   "display_name": "Python 3",
   "language": "python",
   "name": "python3"
  },
  "language_info": {
   "codemirror_mode": {
    "name": "ipython",
    "version": 3
   },
   "file_extension": ".py",
   "mimetype": "text/x-python",
   "name": "python",
   "nbconvert_exporter": "python",
   "pygments_lexer": "ipython3",
   "version": "3.7.6"
  }
 },
 "nbformat": 4,
 "nbformat_minor": 2
}
